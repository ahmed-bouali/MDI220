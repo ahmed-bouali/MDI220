{
 "cells": [
  {
   "cell_type": "markdown",
   "id": "58a4144f",
   "metadata": {},
   "source": [
    "# <div align=\"center\">Mini-Projet Statistiques Realisé par Ahmed BOUALI</div>\n"
   ]
  },
  {
   "cell_type": "markdown",
   "id": "e771caf9",
   "metadata": {},
   "source": [
    "## Exercice 1:\n",
    "### Question 1"
   ]
  },
  {
   "cell_type": "code",
   "execution_count": 3,
   "id": "1374099a",
   "metadata": {
    "scrolled": true
   },
   "outputs": [],
   "source": [
    "import pandas as pd\n",
    "import numpy\n",
    "from scipy.stats import probplot as qq\n",
    "import scipy.stats as stt\n",
    "import matplotlib.pyplot as plt\n"
   ]
  },
  {
   "cell_type": "code",
   "execution_count": 4,
   "id": "6049fccd",
   "metadata": {},
   "outputs": [
    {
     "name": "stdout",
     "output_type": "stream",
     "text": [
      "Vecteur des coûts :  [8.1890e+03 4.4000e+03 3.5000e+03 2.9000e+03 2.5000e+03 1.9645e+03\n",
      " 1.9000e+03 1.7334e+03 1.5000e+03 1.3300e+03 1.3000e+03 1.1000e+03\n",
      " 1.1000e+03 9.9000e+02 8.0000e+02 7.9390e+02 7.8840e+02 5.4140e+02\n",
      " 5.1150e+02 4.2520e+02 2.7710e+02 1.8000e+02 1.5000e+02 1.0000e+02\n",
      " 1.0000e+02 9.9500e+01 9.8000e+01 8.9900e+01 8.7700e+01 8.4500e+01\n",
      " 7.7000e+01 6.0100e+01 5.2400e+01 3.8000e+01 3.7500e+01 2.5700e+01\n",
      " 2.5700e+01 1.7100e+01 1.6100e+01 1.5000e+01 1.3900e+01 1.1800e+01\n",
      " 1.1400e+01 6.1000e+00 4.4000e+00 1.2000e+00 1.1000e+00 0.0000e+00\n",
      " 0.0000e+00 0.0000e+00 0.0000e+00 0.0000e+00 0.0000e+00 0.0000e+00\n",
      " 0.0000e+00]\n",
      "Nombre d'observations obtenues :  55\n"
     ]
    }
   ],
   "source": [
    "data = pd.read_csv('NuclearPowerAccidents2016.csv')\n",
    "data = data.loc[(data['Cost (millions 2013US$)']>=0) & (pd.to_datetime(data['Date'])<pd.to_datetime('19790328', format='%Y%m%d'))]\n",
    "data.shape\n",
    "cost_array = data['Cost (millions 2013US$)'].to_numpy() #Vecteur des coûts\n",
    "print('Vecteur des coûts : ',cost_array)\n",
    "print(\"Nombre d'observations obtenues : \",len(cost_array))"
   ]
  },
  {
   "cell_type": "markdown",
   "id": "1c9c1c7d",
   "metadata": {},
   "source": [
    "### Question 2a\n",
    "Soit $ X_{1} \\sim N(\\mu,\\sigma^2)$ et $ X_{2} = \\frac{X_{1} - \\mu}{\\sigma} \\sim N(0,1)$\n",
    "Soit $F_{1}$ la fonction de répartition de $X_{1}$ et $F_{2}$ la fonction de répartition de $X_{2}$\n",
    "\n",
    "On a : $F_{1}(x) = P(X_{1} < x) = P(\\mu + \\sigma X_{2} < x) = P(X_{2} < \\frac{x - \\mu}{\\sigma} ) = F_{2}( \\frac{x- \\mu}{ \\sigma}) = p$   $,    \\,  p \\in [0,1]$\n",
    "\n",
    "Donc $F_{1}^{-1}(p)= \\mu + F_{2}^{-1}(p)\\sigma\\;$ car $\\;(f(g))^{-1} = g^{-1}(f^{-1})$\n",
    "\n",
    "alors $F^{-1}(p,\\mu,\\sigma^2) = \\mu + F^{-1}(p,0,1)\\sigma $ "
   ]
  },
  {
   "cell_type": "markdown",
   "id": "c1e68fe0",
   "metadata": {},
   "source": [
    "### Question 2b"
   ]
  },
  {
   "cell_type": "code",
   "execution_count": 5,
   "id": "a886c661",
   "metadata": {
    "scrolled": true
   },
   "outputs": [
    {
     "data": {
      "text/plain": [
       "((array([-2.24067415, -1.87510362, -1.66006004, -1.50227431, -1.37493955,\n",
       "         -1.26666782, -1.17149966, -1.08590302, -1.00760151, -0.93503607,\n",
       "         -0.86708833, -0.80292598, -0.74191073, -0.68354056, -0.62741195,\n",
       "         -0.5731943 , -0.52061206, -0.4694319 , -0.41945333, -0.37050163,\n",
       "         -0.32242247, -0.27507767, -0.22834187, -0.18209983, -0.13624414,\n",
       "         -0.0906733 , -0.04529008,  0.        ,  0.04529008,  0.0906733 ,\n",
       "          0.13624414,  0.18209983,  0.22834187,  0.27507767,  0.32242247,\n",
       "          0.37050163,  0.41945333,  0.4694319 ,  0.52061206,  0.5731943 ,\n",
       "          0.62741195,  0.68354056,  0.74191073,  0.80292598,  0.86708833,\n",
       "          0.93503607,  1.00760151,  1.08590302,  1.17149966,  1.26666782,\n",
       "          1.37493955,  1.50227431,  1.66006004,  1.87510362,  2.24067415]),\n",
       "  array([0.0000e+00, 0.0000e+00, 0.0000e+00, 0.0000e+00, 0.0000e+00,\n",
       "         0.0000e+00, 0.0000e+00, 0.0000e+00, 1.1000e+00, 1.2000e+00,\n",
       "         4.4000e+00, 6.1000e+00, 1.1400e+01, 1.1800e+01, 1.3900e+01,\n",
       "         1.5000e+01, 1.6100e+01, 1.7100e+01, 2.5700e+01, 2.5700e+01,\n",
       "         3.7500e+01, 3.8000e+01, 5.2400e+01, 6.0100e+01, 7.7000e+01,\n",
       "         8.4500e+01, 8.7700e+01, 8.9900e+01, 9.8000e+01, 9.9500e+01,\n",
       "         1.0000e+02, 1.0000e+02, 1.5000e+02, 1.8000e+02, 2.7710e+02,\n",
       "         4.2520e+02, 5.1150e+02, 5.4140e+02, 7.8840e+02, 7.9390e+02,\n",
       "         8.0000e+02, 9.9000e+02, 1.1000e+03, 1.1000e+03, 1.3000e+03,\n",
       "         1.3300e+03, 1.5000e+03, 1.7334e+03, 1.9000e+03, 1.9645e+03,\n",
       "         2.5000e+03, 2.9000e+03, 3.5000e+03, 4.4000e+03, 8.1890e+03])),\n",
       " (1071.5607256749959, 726.3363636363639, 0.7438969625276352))"
      ]
     },
     "execution_count": 5,
     "metadata": {},
     "output_type": "execute_result"
    },
    {
     "data": {
      "image/png": "[encoded data removed]",
      "text/plain": [
       "<Figure size 432x288 with 1 Axes>"
      ]
     },
     "metadata": {
      "needs_background": "light"
     },
     "output_type": "display_data"
    }
   ],
   "source": [
    "qq(cost_array,dist='norm',plot=plt) #qq Plot for Normal distribution"
   ]
  },
  {
   "cell_type": "markdown",
   "id": "10c384cb",
   "metadata": {},
   "source": [
    "### Question 3a\n",
    "Soit $ X_{1} \\sim e(\\lambda)$ et $ X_{2} = \\lambda X_{1} \\sim e(1)$\n",
    "Soit $F_{1}$ la fonction de répartition de $X_{1}$ et $F_{2}$ la fonction de répartition de $X_{2}$\n",
    "\n",
    "On a : $F_{1}(x) = P(X_{1} < x) = P(\\frac{X_{2}}{\\lambda} < x) = P(X_{2} < \\lambda x ) = F_{2}(\\lambda x) = p$  $,    \\,  p \\in ]0,1[$\n",
    "\n",
    "Donc $F_{1}^{-1}(p)= \\frac{F_{2}^{-1}(p)}\\lambda\\;$ car $\\;(f(g))^{-1} = g^{-1}(f^{-1})$\n",
    "\n",
    "alors $F^{-1}(p,\\lambda) = \\frac{F^{-1}(p,1)}{\\lambda} $ "
   ]
  },
  {
   "cell_type": "markdown",
   "id": "ab0c1dd3",
   "metadata": {},
   "source": [
    "### Question 3b"
   ]
  },
  {
   "cell_type": "code",
   "execution_count": 6,
   "id": "506e5a6f",
   "metadata": {
    "scrolled": true
   },
   "outputs": [
    {
     "data": {
      "text/plain": [
       "((array([0.01260268, 0.03086056, 0.04966429, 0.06882839, 0.08836694,\n",
       "         0.10829487, 0.128628  , 0.14938317, 0.17057826, 0.19223233,\n",
       "         0.2143657 , 0.23700006, 0.26015862, 0.28386625, 0.3081496 ,\n",
       "         0.33303734, 0.35856032, 0.38475183, 0.41164782, 0.43928725,\n",
       "         0.46771239, 0.49696921, 0.52710786, 0.55818315, 0.59025517,\n",
       "         0.62338998, 0.65766044, 0.69314718, 0.72993971, 0.7681378 ,\n",
       "         0.80785313, 0.84921125, 0.89235392, 0.93744214, 0.98465969,\n",
       "         1.03421771, 1.08636037, 1.14137218, 1.19958736, 1.26140218,\n",
       "         1.32729132, 1.39782998, 1.47372453, 1.55585563, 1.64534074,\n",
       "         1.74362749, 1.85263812, 1.97500261, 2.11445546, 2.27655635,\n",
       "         2.47011547, 2.71035576, 3.02719843, 3.49366684, 4.38014083]),\n",
       "  array([0.0000e+00, 0.0000e+00, 0.0000e+00, 0.0000e+00, 0.0000e+00,\n",
       "         0.0000e+00, 0.0000e+00, 0.0000e+00, 1.1000e+00, 1.2000e+00,\n",
       "         4.4000e+00, 6.1000e+00, 1.1400e+01, 1.1800e+01, 1.3900e+01,\n",
       "         1.5000e+01, 1.6100e+01, 1.7100e+01, 2.5700e+01, 2.5700e+01,\n",
       "         3.7500e+01, 3.8000e+01, 5.2400e+01, 6.0100e+01, 7.7000e+01,\n",
       "         8.4500e+01, 8.7700e+01, 8.9900e+01, 9.8000e+01, 9.9500e+01,\n",
       "         1.0000e+02, 1.0000e+02, 1.5000e+02, 1.8000e+02, 2.7710e+02,\n",
       "         4.2520e+02, 5.1150e+02, 5.4140e+02, 7.8840e+02, 7.9390e+02,\n",
       "         8.0000e+02, 9.9000e+02, 1.1000e+03, 1.1000e+03, 1.3000e+03,\n",
       "         1.3300e+03, 1.5000e+03, 1.7334e+03, 1.9000e+03, 1.9645e+03,\n",
       "         2.5000e+03, 2.9000e+03, 3.5000e+03, 4.4000e+03, 8.1890e+03])),\n",
       " (1391.6206084719065, -639.5019850177933, 0.9305092443126555))"
      ]
     },
     "execution_count": 6,
     "metadata": {},
     "output_type": "execute_result"
    },
    {
     "data": {
      "image/png": "[encoded data removed]",
      "text/plain": [
       "<Figure size 432x288 with 1 Axes>"
      ]
     },
     "metadata": {
      "needs_background": "light"
     },
     "output_type": "display_data"
    }
   ],
   "source": [
    "qq(cost_array,dist='expon',plot=plt) ##QQ Plot for Exponential distribution"
   ]
  },
  {
   "cell_type": "markdown",
   "id": "d92010ec",
   "metadata": {},
   "source": [
    "### Question 4\n",
    "La courbe QQplot de la loi normale n'est pas légitime. En comparant les courbes QQplot des deux lois, la loi exponentielle semble être la plus plausible avec les données. C'est plus proche des résultats théoriques, puisque sa QQplot ressemble à une droite. Donc les données suivent une loi exponentielle plutôt qu'une loi normale."
   ]
  },
  {
   "cell_type": "markdown",
   "id": "885b6986",
   "metadata": {},
   "source": [
    "## Exercice 2 :\n",
    "### Question 1\n",
    "On veut déterminer EMV :\n",
    "\n",
    "\n",
    "$f(x)=\\lambda \\exp (-\\lambda x) $\n",
    "\n",
    "$L = f(x_{1},..,x_{n})= \\prod_{i=1}^{n}\\lambda \\exp (-\\lambda x) = \\lambda^{n} \\exp (-\\lambda \\sum_{i}^{n}x_{i}) $\n",
    "\n",
    "$ log(L) = n log(\\lambda) -\\lambda \\sum_{i}^{n}x_{i} $\n",
    "\n",
    "$ \\frac {\\partial \\log(L)}{\\partial \\lambda} = \\frac {n}{\\lambda}  -\\sum_{i=1}^{n}x_{i} $\n",
    "\n",
    "$ \\frac {\\partial \\log(L)}{\\partial \\lambda} = 0 \\, => \\lambda = \\frac{n}{\\sum_{i=1}^{n}x_{i}} = \\frac {1}{\\overline{X} }$\n",
    "\n",
    "\n",
    "Calculant la dérivée seconde:  <br>\n",
    "$ \\frac{\\partial^2 \\log(L) } {\\partial^2 \\lambda}= - \\frac{n}{\\lambda^2} < 0  $ <br>\n",
    "Alors l'estimateur de maximum de vraisemblance est : $ \\widehat{\\lambda} = \\frac{n}{\\sum_{i=1}^{n}x_{i}} $"
   ]
  },
  {
   "cell_type": "markdown",
   "id": "19c6dcad",
   "metadata": {},
   "source": [
    "### Question 2"
   ]
  },
  {
   "cell_type": "code",
   "execution_count": 7,
   "id": "8047c5f3",
   "metadata": {},
   "outputs": [
    {
     "data": {
      "image/png": "[encoded data removed]",
      "text/plain": [
       "<Figure size 432x288 with 1 Axes>"
      ]
     },
     "metadata": {
      "needs_background": "light"
     },
     "output_type": "display_data"
    }
   ],
   "source": [
    "plt.hist(cost_array,density=True,edgecolor=\"green\") #Histrogramme de données\n",
    "param = len(cost_array)/sum(cost_array) #Y = EMV\n",
    "plt.title(\"Histogramme de données et la densité de probabilité de la loi exponentielle avec EMV\")\n",
    "plt.xlabel(\"Coût\")\n",
    "plt.ylabel(\"Densité\")\n",
    "plt.plot(cost_array, stt.expon.pdf(cost_array,scale=1/param))\n",
    "plt.show()"
   ]
  },
  {
   "cell_type": "markdown",
   "id": "fc330a86",
   "metadata": {},
   "source": [
    "### Question 3\n",
    "On a :\n",
    "\n",
    "$g_{1}(\\lambda)= \\frac{1}{\\lambda}   \\; et  \\;   T_{1}(X)= \\frac {1}{n}\\sum_{i=1}^{n}X_{i}$\n",
    "\n",
    "$\\mathbb{E}(T_{1}(X) - g_{1}(\\lambda)) =  \\frac{1}{n} \\sum_{i=1}^{n}\\mathbb{E}[{X}_{i}] - \\frac{1}{\\lambda} = \\frac{1}{\\lambda} - \\frac{1}{\\lambda} = 0 => T_{1} \\;$ est sans biais.\n",
    "\n",
    "\n",
    "\n",
    "$g_{1}'(\\lambda)^{2} = \\frac{1}{\\lambda^{4}}$\n",
    "\n",
    "$Var(T_{1}(X)) =  \\frac{Var(T_1(X_1))}{n} = \\frac{1}{n\\lambda^{2}}$\n",
    "\n",
    "$I(\\lambda)=nI_1(\\lambda) $ où $ I_1(\\lambda) $ est l'information de fisher pour une seule observation  <br>\n",
    "Puisque notre modele est régulier, on peut utiliser cette formule pour le calcul de l'information de fisher:\n",
    "\n",
    "$I_{1}(\\lambda) = - \\mathbb{E}(\\frac {\\partial^{2} \\log f_{\\lambda}(x)}{\\partial \\lambda^{2}} ) $\n",
    "\n",
    "\n",
    "$\\log f_{\\lambda}(x)= \\log ( \\lambda \\exp (-\\lambda x))= \\log(\\lambda) -\\lambda x $\n",
    "\n",
    "$ \\frac {\\partial\\log(\\lambda) -\\lambda x}{\\partial \\lambda} = \\frac{1}{\\lambda} - x $\n",
    " \n",
    "$ \\frac {\\partial^{2}\\log(\\lambda) -\\lambda x}{\\partial \\lambda^{2}} = \\frac{-1}{\\lambda^{2}}  = >  I_{1}(\\lambda)= \\frac{1}{\\lambda^{2}} = >   I(\\lambda)=\\frac{n}{\\lambda^{2}}$\n",
    "\n",
    "Donc la borne de Cramer Rao : $ \\frac{g_{1}'(\\lambda)^{2}}{I(\\lambda)} = \\frac{1}{n\\lambda^{2}} $\n",
    "\n",
    "Alors on a bien : $Var(T_{1}(X)) =  \\frac{g_{1}'(\\lambda)^{2}}{I(\\lambda)}$\n",
    "$T_{1}$ est un estimateur efficace de $g_{1}(\\lambda)$\n",
    "\n"
   ]
  },
  {
   "cell_type": "markdown",
   "id": "1638d764",
   "metadata": {},
   "source": [
    "### Question 4"
   ]
  },
  {
   "cell_type": "code",
   "execution_count": 8,
   "id": "ffdbcaf9",
   "metadata": {},
   "outputs": [
    {
     "name": "stdout",
     "output_type": "stream",
     "text": [
      "g1 =  726.3363636363636\n"
     ]
    }
   ],
   "source": [
    "g1 = sum(cost_array)/55\n",
    "print('g1 = ',g1)"
   ]
  },
  {
   "cell_type": "markdown",
   "id": "c5c5591d",
   "metadata": {},
   "source": [
    "### Question 5\n",
    "\n",
    "$ \\tilde {T_{1 , \\eta} }(X) = \\eta T_{1}(X)$\n",
    "\n",
    "\n",
    "Pour l'estimateur $T_{1}(X)$, il s'agit d'un estimateur efficace sans biais donc $ R( \\lambda , T_{1})= Var_{\\lambda}( T(X)) = \\frac {1}{n\\lambda^{2}} $ \n",
    "\n",
    "\n",
    "$ Var(\\tilde  {T_{1 , \\eta} }(X)) = \\frac{\\eta^{2}}{n\\lambda^{2}}$\n",
    "\n",
    "$ biais(\\lambda,\\tilde {T_{1 , \\eta} }(X)) = \\mathbb{E}( \\tilde {T_{1 , \\eta} }(X) - g(\\lambda)) = \\frac{\\eta -1}{\\lambda} $\n",
    "\n",
    "$R(\\lambda,\\tilde {T_{1 , \\eta} }(X)) = biais(\\lambda,\\tilde {T_{1 , \\eta} }(X))^{2} + Var(\\tilde  {T_{1 , \\eta} }(X))$\n",
    "\n",
    "On cherche à déterminer $\\;\\eta\\;$ tel que :\n",
    "$R( \\lambda,{T_{1} }(X)) - R(\\lambda,\\tilde {T_{1 , \\eta} }(X)) > 0$\n",
    "\n",
    "On résout :\n",
    "$ \\frac{1}{n\\lambda^{2}} -  (\\frac{\\eta -1}{\\lambda})^{2} - \\frac{\\eta^{2}}{n\\lambda^{2}} > 0  $\n",
    "\n",
    "On obtient : $ \\frac{1+\\eta}{1-\\eta} > n \\; $\n",
    "Qui est impossible si $\\; \\eta\\geq1 \\;$ donc $\\eta<1$\n",
    "\n",
    "D'autre part $ \\eta > \\frac{n-1}{n+1} $\n",
    "\n",
    "Donc $R( \\lambda,{T_{1} }(X)) > R(\\lambda,\\tilde {T_{1 , \\eta} }(X))\\;$ si $\\;\\eta \\in ]\\frac{n-1}{n+1},1[ $\n",
    "\n",
    "Ce résultat n'est pas en contradiction avec la question précédente car $\\tilde {T_{1 , \\eta} }(X)$ est biaisé"
   ]
  },
  {
   "cell_type": "markdown",
   "id": "8f2ba2ba",
   "metadata": {},
   "source": [
    "### Question 6\n",
    "La médiane d'une V.A qui suit la loi exponentielle de paramètre $\\lambda \\;$ est $\\;\\frac{log(2)}{\\lambda}$\n",
    "\n",
    "Pour que $\\;\\tilde {T_{1 , \\eta} }(X)\\;$ soit estimateur sans biais de la médiane, il faut que :\n",
    "\n",
    "$ \\mathbb{E}(\\eta T_{1}(X))-\\frac{log(2)}{\\lambda}) = 0 <=> \\frac{\\eta}{\\lambda}- \\frac{log(2)}{\\lambda}=0 $\n",
    "\n",
    "$\\eta = log(2)$"
   ]
  },
  {
   "cell_type": "code",
   "execution_count": 9,
   "id": "1a5b7c42",
   "metadata": {},
   "outputs": [],
   "source": [
    "import math\n",
    "median = (sum(cost_array)/55)*math.log(2)\n",
    "expr_median = numpy.median(cost_array)\n"
   ]
  },
  {
   "cell_type": "code",
   "execution_count": 10,
   "id": "41f45ba5",
   "metadata": {},
   "outputs": [
    {
     "name": "stdout",
     "output_type": "stream",
     "text": [
      "Estimateur de la médiane :  503.45800259270857\n",
      "Médiane empirique : 89.9\n"
     ]
    }
   ],
   "source": [
    "print(\"Estimateur de la médiane : \",median)\n",
    "print(\"Médiane empirique :\", expr_median)"
   ]
  },
  {
   "cell_type": "markdown",
   "id": "0b2f4854",
   "metadata": {},
   "source": [
    "### Question 7\n",
    "Les risques pour $ T_1$ et $ \\widetilde{{T_1}} $\n",
    "\n",
    "$R(\\lambda,T_{1}) = Var(T_{1}(X)) = \\frac{1}{n\\lambda^{2}}$\n",
    "\n",
    "$R(\\lambda, \\tilde {T_{1 , \\eta} }) = (\\frac{\\eta -1}{\\lambda})^{2} + \\frac{\\eta^{2}}{n\\lambda^{2}}  $\n",
    "\n",
    "Comme notre echantillon est de taille n=55 ,\n",
    "$\\frac {n-1}{n+1} = \\frac{54}{56}= 0.96 $\n",
    "\n",
    "or $\\eta = ln(2) = 0.69 $  donc  $\\eta < \\frac {n-1}{n+1}$.\n",
    "\n",
    "Ce que ne verifie pas la condition obtenue dans la question 5. Donc on peut conclure que  $ R( \\widetilde{{T_1}} ,\\lambda) > R(T_{1}, \\lambda)$ \n",
    "\n",
    "Pour que la condition sur le risque soit vérifiée, il faut que $\\;n<5.51$\n"
   ]
  },
  {
   "cell_type": "markdown",
   "id": "8fe5d0f5",
   "metadata": {},
   "source": [
    "## Exercice 3\n",
    "### Question 1\n",
    "\n",
    "$H_{0}(\\lambda) : \\frac{1}{\\lambda} < 1000 \\; : \\; \\lambda_{0} > 0.001 \\; et \\;   H_{1}(\\lambda) : \\frac{1}{\\lambda} \\geq 1000 \\; : \\; \\lambda_{1} \\leq 0.001$ "
   ]
  },
  {
   "cell_type": "markdown",
   "id": "473e6319",
   "metadata": {},
   "source": [
    "### Question 2\n",
    "\n",
    "D'après le théorème de Neyman-Pearson, le test le plus puissant au niveau $\\alpha\\;$ : \n",
    "\n",
    "$\\frac{L(\\lambda_{1},x_{1}..x_{n})}{L(\\lambda_{0},x_{1}..x_{n})} < k_{\\alpha}$\n",
    "\n",
    "$ \\frac{L(\\lambda_{1},x_{1}..x_{n})}{L(\\lambda_{0},x_{1}..x_{n})} = (\\frac{\\lambda_{1}}{\\lambda_{0}})^{n}e^{-(\\lambda_{1}-\\lambda_{0})\\sum_{i=1}^{n}x_{i}} = (\\frac{\\lambda_{1}}{\\lambda_{0}})^{n}e^{-(\\lambda_{1}-\\lambda_{0})n T(X)}\\;$ qui est croissante en fonction de $T(X)$ car $\\;\\lambda_{0}>\\lambda_{1}$\n",
    "\n",
    "et on a \n",
    "\n",
    "$ H_{0}$  : $ \\lambda_{0}  > 0.001 $\n",
    "\n",
    "Alors il existe $k'_{\\alpha}\\;$ tel que $T(X)> k'_{\\alpha}\\;$, c'est la zone de rejet.\n",
    "\n",
    "Or $\\;T(X) \\sim \\Gamma(n,\\lambda)\\;$ car $T(X)$ c'est une somme de V.A de loi exponentielle\n",
    "\n",
    "$\\alpha = P_{\\lambda0}(T(x)>k'_{\\alpha})\\;$ alors $k'_{\\alpha} = q_{1-\\alpha}^{\\Gamma(n,n\\lambda)}$"
   ]
  },
  {
   "cell_type": "markdown",
   "id": "1e7ea4a4",
   "metadata": {},
   "source": [
    "### Question 3\n",
    "On calcule T(X) et on applique le test obtenu en Question 2 pour $\\alpha=0.05$."
   ]
  },
  {
   "cell_type": "code",
   "execution_count": 11,
   "id": "0beb7f21",
   "metadata": {},
   "outputs": [
    {
     "name": "stdout",
     "output_type": "stream",
     "text": [
      "k=67740.08896417975\n",
      "T=39948.49999999999\n",
      "T est-t-il inférieur est k? :  True\n",
      "Donc T ne se trouve pas dans la zone de rejet, alors on accepte H0 au niveau alpha=0.05\n"
     ]
    }
   ],
   "source": [
    "k = stt.gamma.ppf(a=55,q=0.95,scale=1000)\n",
    "T = sum(cost_array)\n",
    "print(f'k={k}\\nT={T}')\n",
    "print('T est-t-il inférieur est k? : ',bool(T<k))\n",
    "if(T<k):\n",
    "    print('Donc T ne se trouve pas dans la zone de rejet, alors on accepte H0 au niveau alpha=0.05')\n",
    "else:\n",
    "    print('Donc T se trouve dans la zone de rejet, alors on rejète H0 au niveau alpha=0.05')\n"
   ]
  },
  {
   "cell_type": "markdown",
   "id": "9a37dd02",
   "metadata": {},
   "source": [
    "#### Calcul de p-valeur :"
   ]
  },
  {
   "cell_type": "code",
   "execution_count": 12,
   "id": "8f390ec1",
   "metadata": {},
   "outputs": [
    {
     "name": "stdout",
     "output_type": "stream",
     "text": [
      "La p-value 0.9862825135767351 est supérieure à celle du niveau alpha=0.05, ce qui confirme les résultats du test et affirme H0.\n"
     ]
    }
   ],
   "source": [
    "p_value = 1 - stt.gamma.cdf(x=T,a=55,scale=1000)\n",
    "\n",
    "print(f'La p-value {p_value} est supérieure à celle du niveau alpha=0.05, ce qui confirme les résultats du test et affirme H0.')"
   ]
  },
  {
   "cell_type": "markdown",
   "id": "d4ea2442",
   "metadata": {},
   "source": [
    "### Question 4\n",
    "On considère $T(X) = T_{1}(X)\\;$ (Exercice 2  Question 3) alors $T_{1}(X) \\sim \\Gamma(n,n\\lambda)\\;$"
   ]
  },
  {
   "cell_type": "code",
   "execution_count": 13,
   "id": "e5a192b3",
   "metadata": {},
   "outputs": [
    {
     "data": {
      "image/png": "[encoded data removed]",
      "text/plain": [
       "<Figure size 432x288 with 1 Axes>"
      ]
     },
     "metadata": {
      "needs_background": "light"
     },
     "output_type": "display_data"
    }
   ],
   "source": [
    "x=numpy.linspace(stt.gamma.ppf(0.001, a=55,scale=1/(55*0.001)),\n",
    "                stt.gamma.ppf(0.999, a=55,scale=1/(55*0.001)))\n",
    "y=stt.gamma.pdf(x=x, a=55, scale=1/(55*0.001))\n",
    "k=stt.gamma.ppf(0.95,a=55,scale=1/(55*0.001))\n",
    "plt.plot(x,y)\n",
    "plt.fill_between(x[x >= k], y[x >= k], \n",
    "                facecolor='red')\n",
    "_ = plt.axvline(x = k, color = \"red\", linestyle = \"--\")\n",
    "_ = plt.title(\"La région du rejet au niveau alpha=0.05\")\n",
    "plt.show()\n",
    "\n"
   ]
  },
  {
   "cell_type": "markdown",
   "id": "02ac93e5",
   "metadata": {},
   "source": [
    "### Question 5\n",
    "$1 − \\beta(\\lambda) :\\;$ fonction de puissance. \n",
    "<br> Où $\\beta(\\lambda)$ est l'erreur de la deuxième espèce , c'est à dire $ \\beta(\\lambda)= P_{\\lambda1}(T \\in A) $"
   ]
  },
  {
   "cell_type": "code",
   "execution_count": 14,
   "id": "9cf4f23c",
   "metadata": {},
   "outputs": [
    {
     "data": {
      "text/plain": [
       "<matplotlib.legend.Legend at 0x7f40fb8de668>"
      ]
     },
     "execution_count": 14,
     "metadata": {},
     "output_type": "execute_result"
    },
    {
     "data": {
      "image/png": "[encoded data removed]",
      "text/plain": [
       "<Figure size 432x288 with 1 Axes>"
      ]
     },
     "metadata": {
      "needs_background": "light"
     },
     "output_type": "display_data"
    }
   ],
   "source": [
    "L = [10, 50, 100, 500, 10000]\n",
    "x=numpy.linspace(1e-5,1e-3,1000) #car on s'interesse aux valeurs de lambda<0.001\n",
    "\n",
    "k=stt.gamma.ppf(0.95,a=55,scale=1000)\n",
    "\n",
    "for n in L:\n",
    "    y=1-stt.gamma.cdf(k,a=n,scale=1/x)\n",
    "    plt.plot(x,y,label='{}'.format(n))\n",
    "plt.legend( loc='best')\n"
   ]
  },
  {
   "cell_type": "markdown",
   "id": "b87d2a8b",
   "metadata": {},
   "source": [
    "On remarque qu'à partir d'un entier $n$ assez grand, $n\\geq100$ les courbes se confondent et la fonction puissance converge vers 1 pour $\\lambda=0.001$"
   ]
  },
  {
   "cell_type": "markdown",
   "id": "493ebd14",
   "metadata": {},
   "source": [
    "### Question 6\n",
    "En appliquant la theoreme centrale limite, pour des valeurs de n assez grandes on peut approcher la loi  de $T_{1}(X) $ à une loi normale.\n",
    "$  T_1(X)  $ ~  $ N ( \\mu ,\\sigma^{2})$\n",
    "\n",
    "\n",
    "$ \\mu = \\mathbb{E}[ T_1(X) ] = \\frac {1}{\\lambda} $\n",
    "\n",
    "$\\sigma^{2} =  Var (T_1(X)) = \\frac {1}{n \\lambda^{2} }\\$\n",
    "\n",
    "Donc $T_1(X) \\sim N(\\frac{1}{\\lambda},\\frac{1}{\\lambda^2 n}) $\n",
    "\n",
    "On se propose maintenant de faire un test le plus puissant au sense de Nyeman Pearson :\n",
    "\n",
    "En calculant le rapport de vraisemblance, on obtient un rapport croissant et notre hypothèse est $ H_{0}$  : $ \\lambda_{0}  > 0.001 \\;$ donc la zone de rejet est :\n",
    "\n",
    "$T(X)> k'_{\\alpha}\\; et \\;{P}_{\\lambda_0} (T(X)>k_\\alpha)=\\alpha$\n",
    "\n",
    "Où  $ T(X)= \\sum\\limits_{i=1}^n x_i $\n",
    "Alors\n",
    "$\\;T_1(X)> k''_\\alpha=\\frac{k'_\\alpha}{n} $ \n",
    "\n",
    "\n",
    "\n",
    "En appliquant le théorème centrale limite, $  T_1(X)  $ ~  $ N(\\frac{1}{\\lambda},\\frac{1}{\\lambda^2 n})$ alors\n",
    " $ T(X) \\sim N(\\frac{n }{\\lambda_0} ,\\frac{n}{\\lambda_0^2}) $ , donc \n",
    "$ U(X)= \\frac{T(X)-\\frac{n}{\\lambda_0}}{\\frac{\\sqrt{n}}{\\lambda_0}} \\sim N(0,1) $\n",
    "\n",
    "${P}_{\\lambda_0} (U(X)> \\frac{k'_\\alpha-\\frac{n}{\\lambda_0}}{\\frac{\\sqrt{n}}{\\lambda_0}})=\\alpha  $\n",
    "\n",
    "Alors $z_{1-\\alpha}=\\frac{k'_\\alpha-\\frac{n}{\\lambda_0}}{\\frac{\\sqrt{n}}{\\lambda_0}}$ est un quantile de niveau $ (1-\\alpha) $ de la loi $N(1,0)$\n",
    "Donc $ k''_\\alpha=\\frac{k'_\\alpha}{n} = z_{1-\\alpha}\\frac{1}{\\sqrt{n}\\lambda_0} + \\frac{1}{\\lambda_0} \\quad  $ \n",
    "\n",
    "\n",
    "Donc le nouveau test pour le niveau $ \\alpha $\n",
    "a pour région de rejet : $T_1(X)> z_{1-\\alpha}\\frac{1}{\\sqrt{n}\\lambda_0} + \\frac{1}{\\lambda_0} $"
   ]
  },
  {
   "cell_type": "code",
   "execution_count": 15,
   "id": "44d21fd2",
   "metadata": {},
   "outputs": [
    {
     "name": "stdout",
     "output_type": "stream",
     "text": [
      "On se trouve dans la zone d'acceptation pour le test 0.05, on accepte H0\n"
     ]
    }
   ],
   "source": [
    "z=stt.norm.ppf(0.95)\n",
    "k= z*(1/(numpy.sqrt(55)*0.001))+1/0.001\n",
    "T1 = sum(cost_array)/55\n",
    "if T1>k:\n",
    "    print(\"On se trouve dans la zone rejet pour le test 0.05, on rejette H0\")\n",
    "else:\n",
    "    print(\"On se trouve dans la zone d'acceptation pour le test 0.05, on accepte H0\")"
   ]
  },
  {
   "cell_type": "code",
   "execution_count": null,
   "id": "9d3b6791",
   "metadata": {},
   "outputs": [],
   "source": []
  }
 ],
 "metadata": {
  "kernelspec": {
   "display_name": "Python 3",
   "language": "python",
   "name": "python3"
  },
  "language_info": {
   "codemirror_mode": {
    "name": "ipython",
    "version": 3
   },
   "file_extension": ".py",
   "mimetype": "text/x-python",
   "name": "python",
   "nbconvert_exporter": "python",
   "pygments_lexer": "ipython3",
   "version": "3.6.9"
  }
 },
 "nbformat": 4,
 "nbformat_minor": 5
}
